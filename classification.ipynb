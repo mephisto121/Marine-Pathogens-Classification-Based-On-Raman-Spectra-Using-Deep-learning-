{
 "cells": [
  {
   "cell_type": "code",
   "execution_count": 1,
   "metadata": {},
   "outputs": [
    {
     "name": "stderr",
     "output_type": "stream",
     "text": [
      "f:\\anaconda\\lib\\site-packages\\numpy\\_distributor_init.py:30: UserWarning: loaded more than 1 DLL from .libs:\n",
      "f:\\anaconda\\lib\\site-packages\\numpy\\.libs\\libopenblas.EL2C6PLE4ZYW3ECEVIV3OXXGRN2NRFM2.gfortran-win_amd64.dll\n",
      "f:\\anaconda\\lib\\site-packages\\numpy\\.libs\\libopenblas.WCDJNK7YVMPZQ2ME2ZZHJJRJ3JIKNDB7.gfortran-win_amd64.dll\n",
      "  warnings.warn(\"loaded more than 1 DLL from .libs:\"\n"
     ]
    }
   ],
   "source": [
    "import numpy as np\n",
    "import pandas as pd\n",
    "import matplotlib.pyplot as plt\n",
    "import tensorflow as tf\n",
    "from tensorflow import keras\n",
    "from tensorflow.keras import layers\n",
    "from tensorflow.keras.models import Model\n",
    "from tensorflow.keras.utils import plot_model\n",
    "from tensorflow.keras.losses import SparseCategoricalCrossentropy\n",
    "from tensorflow.keras.optimizers import Adam\n",
    "from sklearn.model_selection import train_test_split\n",
    "from sklearn.metrics import confusion_matrix, recall_score\n"
   ]
  },
  {
   "cell_type": "code",
   "execution_count": 2,
   "metadata": {},
   "outputs": [],
   "source": [
    "import itertools\n",
    "from sklearn.metrics import confusion_matrix\n",
    " # this code was copy from https://github.com/mrdbourke/tensorflow-deep-learning/blob/main/02_neural_network_classification_in_tensorflow.ipynb\n",
    "# Our function needs a different name to sklearn's plot_confusion_matrix\n",
    "def make_confusion_matrix(y_true, y_pred, classes=None, figsize=(10, 10), text_size=15): \n",
    "  \"\"\"Makes a labelled confusion matrix comparing predictions and ground truth labels.\n",
    "\n",
    "  If classes is passed, confusion matrix will be labelled, if not, integer class values\n",
    "  will be used.\n",
    "\n",
    "  Args:\n",
    "    y_true: Array of truth labels (must be same shape as y_pred).\n",
    "    y_pred: Array of predicted labels (must be same shape as y_true).\n",
    "    classes: Array of class labels (e.g. string form). If `None`, integer labels are used.\n",
    "    figsize: Size of output figure (default=(10, 10)).\n",
    "    text_size: Size of output figure text (default=15).\n",
    "  \n",
    "  Returns:\n",
    "    A labelled confusion matrix plot comparing y_true and y_pred.\n",
    "\n",
    "  Example usage:\n",
    "    make_confusion_matrix(y_true=test_labels, # ground truth test labels\n",
    "                          y_pred=y_preds, # predicted labels\n",
    "                          classes=class_names, # array of class label names\n",
    "                          figsize=(15, 15),\n",
    "                          text_size=10)\n",
    "  \"\"\"  \n",
    "  # Create the confustion matrix\n",
    "  cm = confusion_matrix(y_true, y_pred)\n",
    "  cm_norm = cm.astype(\"float\") / cm.sum(axis=1)[:, np.newaxis] # normalize it\n",
    "  n_classes = cm.shape[0] # find the number of classes we're dealing with\n",
    "\n",
    "  # Plot the figure and make it pretty\n",
    "  fig, ax = plt.subplots(figsize=figsize)\n",
    "  cax = ax.matshow(cm, cmap=plt.cm.Blues) # colors will represent how 'correct' a class is, darker == better\n",
    "  fig.colorbar(cax)\n",
    "\n",
    "  # Are there a list of classes?\n",
    "  if classes:\n",
    "    labels = classes\n",
    "  else:\n",
    "    labels = np.arange(cm.shape[0])\n",
    "  \n",
    "  # Label the axes\n",
    "  ax.set(title=\"Confusion Matrix\",\n",
    "         xlabel=\"Predicted label\",\n",
    "         ylabel=\"True label\",\n",
    "         xticks=np.arange(n_classes), # create enough axis slots for each class\n",
    "         yticks=np.arange(n_classes), \n",
    "         xticklabels=labels, # axes will labeled with class names (if they exist) or ints\n",
    "         yticklabels=labels)\n",
    "  \n",
    "  # Make x-axis labels appear on bottom\n",
    "  ax.xaxis.set_label_position(\"bottom\")\n",
    "  ax.xaxis.tick_bottom()\n",
    "\n",
    "  # Set the threshold for different colors\n",
    "  threshold = (cm.max() + cm.min()) / 2.\n",
    "\n",
    "  # Plot the text on each cell\n",
    "  for i, j in itertools.product(range(cm.shape[0]), range(cm.shape[1])):\n",
    "    plt.text(j, i, f\"{cm[i, j]} ({cm_norm[i, j]*100:.1f}%)\",\n",
    "             horizontalalignment=\"center\",\n",
    "             color=\"white\" if cm[i, j] > threshold else \"black\",\n",
    "             size=text_size)"
   ]
  },
  {
   "cell_type": "code",
   "execution_count": 3,
   "metadata": {},
   "outputs": [],
   "source": [
    "data = pd.read_table(\"results.csv\",delimiter=\",\",skiprows=0, header = None)\n",
    "X, Y = np.array(data.iloc[:,1:-1]),np.array(data.iloc[:,-1])\n",
    "\n",
    "xtrain, xtest, ytrain, ytest = train_test_split(X, Y, test_size=0.3, random_state=42)"
   ]
  },
  {
   "cell_type": "code",
   "execution_count": 4,
   "metadata": {},
   "outputs": [],
   "source": [
    "def model():\n",
    "    input = layers.Input(shape=xtrain.shape[1], name=\"input data\")\n",
    "    x1 = layers.Dense(1200, activation = 'relu')(input)\n",
    "    x1 = layers.BatchNormalization()(x1)\n",
    "    x1 = layers.Dropout(0.1)(x1)\n",
    "    x1 = layers.Dense(1200, activation = 'relu')(x1)\n",
    "    x1 = layers.BatchNormalization()(x1)\n",
    "    x1 = layers.Dropout(0.1)(x1)\n",
    "    x1 = layers.Dense(256, activation = 'relu')(x1)\n",
    "    x1 = layers.BatchNormalization()(x1)\n",
    "    x1 = layers.Dropout(0.1)(x1)\n",
    "    x1 = layers.Dense(128, activation = 'relu')(x1)\n",
    "    x1 = layers.BatchNormalization()(x1)\n",
    "    x1 = layers.Dropout(0.1)(x1) \n",
    "    output = layers.Dense(8, activation = 'softmax')(x1) \n",
    "    model = Model(inputs = input, outputs = output)\n",
    "    return model"
   ]
  },
  {
   "cell_type": "code",
   "execution_count": 5,
   "metadata": {},
   "outputs": [
    {
     "name": "stdout",
     "output_type": "stream",
     "text": [
      "Model: \"model\"\n",
      "_________________________________________________________________\n",
      " Layer (type)                Output Shape              Param #   \n",
      "=================================================================\n",
      " input data (InputLayer)     [(None, 1200)]            0         \n",
      "                                                                 \n",
      " dense (Dense)               (None, 1200)              1441200   \n",
      "                                                                 \n",
      " batch_normalization (BatchN  (None, 1200)             4800      \n",
      " ormalization)                                                   \n",
      "                                                                 \n",
      " dropout (Dropout)           (None, 1200)              0         \n",
      "                                                                 \n",
      " dense_1 (Dense)             (None, 1200)              1441200   \n",
      "                                                                 \n",
      " batch_normalization_1 (Batc  (None, 1200)             4800      \n",
      " hNormalization)                                                 \n",
      "                                                                 \n",
      " dropout_1 (Dropout)         (None, 1200)              0         \n",
      "                                                                 \n",
      " dense_2 (Dense)             (None, 256)               307456    \n",
      "                                                                 \n",
      " batch_normalization_2 (Batc  (None, 256)              1024      \n",
      " hNormalization)                                                 \n",
      "                                                                 \n",
      " dropout_2 (Dropout)         (None, 256)               0         \n",
      "                                                                 \n",
      " dense_3 (Dense)             (None, 128)               32896     \n",
      "                                                                 \n",
      " batch_normalization_3 (Batc  (None, 128)              512       \n",
      " hNormalization)                                                 \n",
      "                                                                 \n",
      " dropout_3 (Dropout)         (None, 128)               0         \n",
      "                                                                 \n",
      " dense_4 (Dense)             (None, 8)                 1032      \n",
      "                                                                 \n",
      "=================================================================\n",
      "Total params: 3,234,920\n",
      "Trainable params: 3,229,352\n",
      "Non-trainable params: 5,568\n",
      "_________________________________________________________________\n"
     ]
    }
   ],
   "source": [
    "train_model = model()\n",
    "train_model.summary()"
   ]
  },
  {
   "cell_type": "code",
   "execution_count": 6,
   "metadata": {},
   "outputs": [
    {
     "data": {
      "image/png": "[encoded data removed]",
      "text/plain": [
       "<IPython.core.display.Image object>"
      ]
     },
     "execution_count": 6,
     "metadata": {},
     "output_type": "execute_result"
    }
   ],
   "source": [
    "plot_model(train_model)"
   ]
  },
  {
   "cell_type": "code",
   "execution_count": 7,
   "metadata": {},
   "outputs": [],
   "source": [
    "checkpoint_filepath = 'model/'\n",
    "checkpoint = tf.keras.callbacks.ModelCheckpoint(checkpoint_filepath, \n",
    "                monitor='val_loss', verbose=1, \n",
    "                save_best_only=True, save_weights_only = True, mode='min')\n",
    "train_model.compile(optimizer = Adam(learning_rate = 0.0001), loss = SparseCategoricalCrossentropy(), metrics = [\"accuracy\"])"
   ]
  },
  {
   "cell_type": "code",
   "execution_count": 8,
   "metadata": {},
   "outputs": [
    {
     "name": "stdout",
     "output_type": "stream",
     "text": [
      "Epoch 1/60\n",
      "13/13 [==============================] - ETA: 0s - loss: 1.1469 - accuracy: 0.6386\n",
      "Epoch 00001: val_loss improved from inf to 2.03081, saving model to model\\\n",
      "13/13 [==============================] - 4s 178ms/step - loss: 1.1469 - accuracy: 0.6386 - val_loss: 2.0308 - val_accuracy: 0.3801\n",
      "Epoch 2/60\n",
      "13/13 [==============================] - ETA: 0s - loss: 0.2474 - accuracy: 0.9285\n",
      "Epoch 00002: val_loss improved from 2.03081 to 2.02307, saving model to model\\\n",
      "13/13 [==============================] - 3s 207ms/step - loss: 0.2474 - accuracy: 0.9285 - val_loss: 2.0231 - val_accuracy: 0.1170\n",
      "Epoch 3/60\n",
      "13/13 [==============================] - ETA: 0s - loss: 0.1132 - accuracy: 0.9849\n",
      "Epoch 00003: val_loss did not improve from 2.02307\n",
      "13/13 [==============================] - 0s 19ms/step - loss: 0.1132 - accuracy: 0.9849 - val_loss: 2.0241 - val_accuracy: 0.1053\n",
      "Epoch 4/60\n",
      " 9/13 [===================>..........] - ETA: 0s - loss: 0.0846 - accuracy: 0.9861\n",
      "Epoch 00004: val_loss did not improve from 2.02307\n",
      "13/13 [==============================] - 0s 18ms/step - loss: 0.0887 - accuracy: 0.9837 - val_loss: 2.0260 - val_accuracy: 0.1228\n",
      "Epoch 5/60\n",
      "11/13 [========================>.....] - ETA: 0s - loss: 0.0531 - accuracy: 0.9943\n",
      "Epoch 00005: val_loss did not improve from 2.02307\n",
      "13/13 [==============================] - 0s 16ms/step - loss: 0.0536 - accuracy: 0.9937 - val_loss: 2.0241 - val_accuracy: 0.1871\n",
      "Epoch 6/60\n",
      "10/13 [======================>.......] - ETA: 0s - loss: 0.0545 - accuracy: 0.9922\n",
      "Epoch 00006: val_loss improved from 2.02307 to 2.01972, saving model to model\\\n",
      "13/13 [==============================] - 1s 107ms/step - loss: 0.0535 - accuracy: 0.9925 - val_loss: 2.0197 - val_accuracy: 0.2222\n",
      "Epoch 7/60\n",
      " 9/13 [===================>..........] - ETA: 0s - loss: 0.0331 - accuracy: 0.9965\n",
      "Epoch 00007: val_loss improved from 2.01972 to 2.00830, saving model to model\\\n",
      "13/13 [==============================] - 2s 139ms/step - loss: 0.0321 - accuracy: 0.9975 - val_loss: 2.0083 - val_accuracy: 0.2427\n",
      "Epoch 8/60\n",
      "12/13 [==========================>...] - ETA: 0s - loss: 0.0216 - accuracy: 1.0000\n",
      "Epoch 00008: val_loss improved from 2.00830 to 1.99240, saving model to model\\\n",
      "13/13 [==============================] - 2s 139ms/step - loss: 0.0245 - accuracy: 0.9987 - val_loss: 1.9924 - val_accuracy: 0.2602\n",
      "Epoch 9/60\n",
      " 9/13 [===================>..........] - ETA: 0s - loss: 0.0239 - accuracy: 1.0000\n",
      "Epoch 00009: val_loss improved from 1.99240 to 1.97349, saving model to model\\\n",
      "13/13 [==============================] - 1s 112ms/step - loss: 0.0249 - accuracy: 0.9987 - val_loss: 1.9735 - val_accuracy: 0.2807\n",
      "Epoch 10/60\n",
      "12/13 [==========================>...] - ETA: 0s - loss: 0.0238 - accuracy: 1.0000\n",
      "Epoch 00010: val_loss improved from 1.97349 to 1.95637, saving model to model\\\n",
      "13/13 [==============================] - 1s 95ms/step - loss: 0.0235 - accuracy: 1.0000 - val_loss: 1.9564 - val_accuracy: 0.2924\n",
      "Epoch 11/60\n",
      " 9/13 [===================>..........] - ETA: 0s - loss: 0.0164 - accuracy: 1.0000\n",
      "Epoch 00011: val_loss improved from 1.95637 to 1.92556, saving model to model\\\n",
      "13/13 [==============================] - 1s 117ms/step - loss: 0.0177 - accuracy: 1.0000 - val_loss: 1.9256 - val_accuracy: 0.2865\n",
      "Epoch 12/60\n",
      "13/13 [==============================] - ETA: 0s - loss: 0.0160 - accuracy: 0.9987\n",
      "Epoch 00012: val_loss improved from 1.92556 to 1.89345, saving model to model\\\n",
      "13/13 [==============================] - 1s 98ms/step - loss: 0.0160 - accuracy: 0.9987 - val_loss: 1.8934 - val_accuracy: 0.2953\n",
      "Epoch 13/60\n",
      "10/13 [======================>.......] - ETA: 0s - loss: 0.0129 - accuracy: 1.0000\n",
      "Epoch 00013: val_loss improved from 1.89345 to 1.85832, saving model to model\\\n",
      "13/13 [==============================] - 1s 103ms/step - loss: 0.0144 - accuracy: 1.0000 - val_loss: 1.8583 - val_accuracy: 0.2924\n",
      "Epoch 14/60\n",
      "13/13 [==============================] - ETA: 0s - loss: 0.0141 - accuracy: 0.9987\n",
      "Epoch 00014: val_loss improved from 1.85832 to 1.80509, saving model to model\\\n",
      "13/13 [==============================] - 1s 100ms/step - loss: 0.0141 - accuracy: 0.9987 - val_loss: 1.8051 - val_accuracy: 0.2982\n",
      "Epoch 15/60\n",
      "10/13 [======================>.......] - ETA: 0s - loss: 0.0127 - accuracy: 0.9984\n",
      "Epoch 00015: val_loss improved from 1.80509 to 1.74785, saving model to model\\\n",
      "13/13 [==============================] - 1s 92ms/step - loss: 0.0126 - accuracy: 0.9987 - val_loss: 1.7478 - val_accuracy: 0.3041\n",
      "Epoch 16/60\n",
      "11/13 [========================>.....] - ETA: 0s - loss: 0.0100 - accuracy: 1.0000\n",
      "Epoch 00016: val_loss improved from 1.74785 to 1.69802, saving model to model\\\n",
      "13/13 [==============================] - 1s 116ms/step - loss: 0.0153 - accuracy: 0.9987 - val_loss: 1.6980 - val_accuracy: 0.3158\n",
      "Epoch 17/60\n",
      "12/13 [==========================>...] - ETA: 0s - loss: 0.0191 - accuracy: 0.9974\n",
      "Epoch 00017: val_loss improved from 1.69802 to 1.64527, saving model to model\\\n",
      "13/13 [==============================] - 1s 94ms/step - loss: 0.0197 - accuracy: 0.9975 - val_loss: 1.6453 - val_accuracy: 0.3713\n",
      "Epoch 18/60\n",
      "13/13 [==============================] - ETA: 0s - loss: 0.0119 - accuracy: 1.0000\n",
      "Epoch 00018: val_loss improved from 1.64527 to 1.58891, saving model to model\\\n",
      "13/13 [==============================] - 1s 92ms/step - loss: 0.0119 - accuracy: 1.0000 - val_loss: 1.5889 - val_accuracy: 0.4006\n",
      "Epoch 19/60\n",
      "11/13 [========================>.....] - ETA: 0s - loss: 0.0093 - accuracy: 1.0000\n",
      "Epoch 00019: val_loss improved from 1.58891 to 1.51668, saving model to model\\\n",
      "13/13 [==============================] - 1s 89ms/step - loss: 0.0103 - accuracy: 1.0000 - val_loss: 1.5167 - val_accuracy: 0.4152\n",
      "Epoch 20/60\n",
      "13/13 [==============================] - ETA: 0s - loss: 0.0103 - accuracy: 1.0000\n",
      "Epoch 00020: val_loss improved from 1.51668 to 1.42974, saving model to model\\\n",
      "13/13 [==============================] - 2s 135ms/step - loss: 0.0103 - accuracy: 1.0000 - val_loss: 1.4297 - val_accuracy: 0.4357\n",
      "Epoch 21/60\n",
      "11/13 [========================>.....] - ETA: 0s - loss: 0.0083 - accuracy: 1.0000\n",
      "Epoch 00021: val_loss improved from 1.42974 to 1.34869, saving model to model\\\n",
      "13/13 [==============================] - 1s 86ms/step - loss: 0.0079 - accuracy: 1.0000 - val_loss: 1.3487 - val_accuracy: 0.4912\n",
      "Epoch 22/60\n",
      " 9/13 [===================>..........] - ETA: 0s - loss: 0.0059 - accuracy: 1.0000\n",
      "Epoch 00022: val_loss improved from 1.34869 to 1.25589, saving model to model\\\n",
      "13/13 [==============================] - 1s 94ms/step - loss: 0.0064 - accuracy: 1.0000 - val_loss: 1.2559 - val_accuracy: 0.5702\n",
      "Epoch 23/60\n",
      "10/13 [======================>.......] - ETA: 0s - loss: 0.0081 - accuracy: 1.0000\n",
      "Epoch 00023: val_loss improved from 1.25589 to 1.15806, saving model to model\\\n",
      "13/13 [==============================] - 1s 95ms/step - loss: 0.0078 - accuracy: 1.0000 - val_loss: 1.1581 - val_accuracy: 0.6520\n",
      "Epoch 24/60\n",
      "13/13 [==============================] - ETA: 0s - loss: 0.0087 - accuracy: 0.9987\n",
      "Epoch 00024: val_loss improved from 1.15806 to 1.06049, saving model to model\\\n",
      "13/13 [==============================] - 1s 99ms/step - loss: 0.0087 - accuracy: 0.9987 - val_loss: 1.0605 - val_accuracy: 0.7105\n",
      "Epoch 25/60\n",
      "13/13 [==============================] - ETA: 0s - loss: 0.0072 - accuracy: 0.9987\n",
      "Epoch 00025: val_loss improved from 1.06049 to 0.96191, saving model to model\\\n",
      "13/13 [==============================] - 2s 137ms/step - loss: 0.0072 - accuracy: 0.9987 - val_loss: 0.9619 - val_accuracy: 0.7602\n",
      "Epoch 26/60\n",
      "11/13 [========================>.....] - ETA: 0s - loss: 0.0064 - accuracy: 1.0000\n",
      "Epoch 00026: val_loss improved from 0.96191 to 0.88460, saving model to model\\\n",
      "13/13 [==============================] - 1s 106ms/step - loss: 0.0065 - accuracy: 1.0000 - val_loss: 0.8846 - val_accuracy: 0.7982\n",
      "Epoch 27/60\n",
      " 9/13 [===================>..........] - ETA: 0s - loss: 0.0046 - accuracy: 1.0000\n",
      "Epoch 00027: val_loss improved from 0.88460 to 0.78683, saving model to model\\\n",
      "13/13 [==============================] - 1s 93ms/step - loss: 0.0056 - accuracy: 1.0000 - val_loss: 0.7868 - val_accuracy: 0.8363\n",
      "Epoch 28/60\n",
      " 9/13 [===================>..........] - ETA: 0s - loss: 0.0053 - accuracy: 1.0000\n",
      "Epoch 00028: val_loss improved from 0.78683 to 0.69145, saving model to model\\\n",
      "13/13 [==============================] - 1s 90ms/step - loss: 0.0055 - accuracy: 1.0000 - val_loss: 0.6915 - val_accuracy: 0.8567\n",
      "Epoch 29/60\n",
      " 9/13 [===================>..........] - ETA: 0s - loss: 0.0051 - accuracy: 1.0000\n",
      "Epoch 00029: val_loss improved from 0.69145 to 0.60516, saving model to model\\\n",
      "13/13 [==============================] - 1s 90ms/step - loss: 0.0050 - accuracy: 1.0000 - val_loss: 0.6052 - val_accuracy: 0.9006\n",
      "Epoch 30/60\n",
      "11/13 [========================>.....] - ETA: 0s - loss: 0.0049 - accuracy: 1.0000\n",
      "Epoch 00030: val_loss improved from 0.60516 to 0.51847, saving model to model\\\n",
      "13/13 [==============================] - 2s 174ms/step - loss: 0.0054 - accuracy: 1.0000 - val_loss: 0.5185 - val_accuracy: 0.9211\n",
      "Epoch 31/60\n",
      " 9/13 [===================>..........] - ETA: 0s - loss: 0.0044 - accuracy: 1.0000\n",
      "Epoch 00031: val_loss improved from 0.51847 to 0.43419, saving model to model\\\n",
      "13/13 [==============================] - 1s 93ms/step - loss: 0.0044 - accuracy: 1.0000 - val_loss: 0.4342 - val_accuracy: 0.9561\n",
      "Epoch 32/60\n",
      "11/13 [========================>.....] - ETA: 0s - loss: 0.0053 - accuracy: 1.0000\n",
      "Epoch 00032: val_loss improved from 0.43419 to 0.36549, saving model to model\\\n",
      "13/13 [==============================] - 1s 90ms/step - loss: 0.0050 - accuracy: 1.0000 - val_loss: 0.3655 - val_accuracy: 0.9766\n",
      "Epoch 33/60\n",
      "10/13 [======================>.......] - ETA: 0s - loss: 0.0033 - accuracy: 1.0000\n",
      "Epoch 00033: val_loss improved from 0.36549 to 0.30406, saving model to model\\\n",
      "13/13 [==============================] - 2s 125ms/step - loss: 0.0033 - accuracy: 1.0000 - val_loss: 0.3041 - val_accuracy: 0.9854\n",
      "Epoch 34/60\n",
      " 9/13 [===================>..........] - ETA: 0s - loss: 0.0031 - accuracy: 1.0000\n",
      "Epoch 00034: val_loss improved from 0.30406 to 0.24915, saving model to model\\\n",
      "13/13 [==============================] - 1s 94ms/step - loss: 0.0039 - accuracy: 1.0000 - val_loss: 0.2492 - val_accuracy: 0.9883\n",
      "Epoch 35/60\n",
      "11/13 [========================>.....] - ETA: 0s - loss: 0.0036 - accuracy: 1.0000\n",
      "Epoch 00035: val_loss improved from 0.24915 to 0.20245, saving model to model\\\n",
      "13/13 [==============================] - 1s 93ms/step - loss: 0.0043 - accuracy: 1.0000 - val_loss: 0.2024 - val_accuracy: 0.9912\n",
      "Epoch 36/60\n",
      "13/13 [==============================] - ETA: 0s - loss: 0.0051 - accuracy: 1.0000\n",
      "Epoch 00036: val_loss improved from 0.20245 to 0.16140, saving model to model\\\n",
      "13/13 [==============================] - 1s 99ms/step - loss: 0.0051 - accuracy: 1.0000 - val_loss: 0.1614 - val_accuracy: 0.9942\n",
      "Epoch 37/60\n",
      "11/13 [========================>.....] - ETA: 0s - loss: 0.0047 - accuracy: 1.0000\n",
      "Epoch 00037: val_loss improved from 0.16140 to 0.12790, saving model to model\\\n",
      "13/13 [==============================] - 1s 94ms/step - loss: 0.0046 - accuracy: 1.0000 - val_loss: 0.1279 - val_accuracy: 0.9971\n",
      "Epoch 38/60\n",
      "11/13 [========================>.....] - ETA: 0s - loss: 0.0031 - accuracy: 1.0000\n",
      "Epoch 00038: val_loss improved from 0.12790 to 0.10082, saving model to model\\\n",
      "13/13 [==============================] - 2s 172ms/step - loss: 0.0033 - accuracy: 1.0000 - val_loss: 0.1008 - val_accuracy: 0.9971\n",
      "Epoch 39/60\n",
      "10/13 [======================>.......] - ETA: 0s - loss: 0.0044 - accuracy: 1.0000\n",
      "Epoch 00039: val_loss improved from 0.10082 to 0.07761, saving model to model\\\n",
      "13/13 [==============================] - 1s 97ms/step - loss: 0.0044 - accuracy: 1.0000 - val_loss: 0.0776 - val_accuracy: 1.0000\n",
      "Epoch 40/60\n",
      "12/13 [==========================>...] - ETA: 0s - loss: 0.0029 - accuracy: 1.0000\n",
      "Epoch 00040: val_loss improved from 0.07761 to 0.05894, saving model to model\\\n",
      "13/13 [==============================] - 1s 97ms/step - loss: 0.0029 - accuracy: 1.0000 - val_loss: 0.0589 - val_accuracy: 1.0000\n",
      "Epoch 41/60\n",
      "13/13 [==============================] - ETA: 0s - loss: 0.0031 - accuracy: 1.0000\n",
      "Epoch 00041: val_loss improved from 0.05894 to 0.04426, saving model to model\\\n",
      "13/13 [==============================] - 1s 100ms/step - loss: 0.0031 - accuracy: 1.0000 - val_loss: 0.0443 - val_accuracy: 1.0000\n",
      "Epoch 42/60\n",
      " 9/13 [===================>..........] - ETA: 0s - loss: 0.0038 - accuracy: 1.0000\n",
      "Epoch 00042: val_loss improved from 0.04426 to 0.03412, saving model to model\\\n",
      "13/13 [==============================] - 1s 111ms/step - loss: 0.0040 - accuracy: 1.0000 - val_loss: 0.0341 - val_accuracy: 1.0000\n",
      "Epoch 43/60\n",
      "13/13 [==============================] - ETA: 0s - loss: 0.0030 - accuracy: 1.0000\n",
      "Epoch 00043: val_loss improved from 0.03412 to 0.02665, saving model to model\\\n",
      "13/13 [==============================] - 1s 99ms/step - loss: 0.0030 - accuracy: 1.0000 - val_loss: 0.0267 - val_accuracy: 1.0000\n",
      "Epoch 44/60\n",
      "10/13 [======================>.......] - ETA: 0s - loss: 0.0028 - accuracy: 1.0000\n",
      "Epoch 00044: val_loss improved from 0.02665 to 0.02108, saving model to model\\\n",
      "13/13 [==============================] - 1s 91ms/step - loss: 0.0029 - accuracy: 1.0000 - val_loss: 0.0211 - val_accuracy: 1.0000\n",
      "Epoch 45/60\n",
      "12/13 [==========================>...] - ETA: 0s - loss: 0.0036 - accuracy: 1.0000\n",
      "Epoch 00045: val_loss improved from 0.02108 to 0.01903, saving model to model\\\n",
      "13/13 [==============================] - 1s 91ms/step - loss: 0.0136 - accuracy: 0.9975 - val_loss: 0.0190 - val_accuracy: 1.0000\n",
      "Epoch 46/60\n",
      "13/13 [==============================] - ETA: 0s - loss: 0.0167 - accuracy: 0.9962\n",
      "Epoch 00046: val_loss did not improve from 0.01903\n",
      "13/13 [==============================] - 0s 20ms/step - loss: 0.0167 - accuracy: 0.9962 - val_loss: 0.0393 - val_accuracy: 1.0000\n",
      "Epoch 47/60\n",
      "13/13 [==============================] - ETA: 0s - loss: 0.0074 - accuracy: 1.0000\n",
      "Epoch 00047: val_loss did not improve from 0.01903\n",
      "13/13 [==============================] - 0s 21ms/step - loss: 0.0074 - accuracy: 1.0000 - val_loss: 0.0470 - val_accuracy: 1.0000\n",
      "Epoch 48/60\n",
      "11/13 [========================>.....] - ETA: 0s - loss: 0.0058 - accuracy: 1.0000\n",
      "Epoch 00048: val_loss did not improve from 0.01903\n",
      "13/13 [==============================] - 0s 22ms/step - loss: 0.0058 - accuracy: 1.0000 - val_loss: 0.0306 - val_accuracy: 1.0000\n",
      "Epoch 49/60\n",
      "10/13 [======================>.......] - ETA: 0s - loss: 0.0049 - accuracy: 1.0000\n",
      "Epoch 00049: val_loss did not improve from 0.01903\n",
      "13/13 [==============================] - 0s 17ms/step - loss: 0.0067 - accuracy: 1.0000 - val_loss: 0.0217 - val_accuracy: 1.0000\n",
      "Epoch 50/60\n",
      "12/13 [==========================>...] - ETA: 0s - loss: 0.0047 - accuracy: 1.0000\n",
      "Epoch 00050: val_loss did not improve from 0.01903\n",
      "13/13 [==============================] - 0s 22ms/step - loss: 0.0059 - accuracy: 1.0000 - val_loss: 0.0191 - val_accuracy: 1.0000\n",
      "Epoch 51/60\n",
      "13/13 [==============================] - ETA: 0s - loss: 0.0038 - accuracy: 1.0000\n",
      "Epoch 00051: val_loss improved from 0.01903 to 0.01413, saving model to model\\\n",
      "13/13 [==============================] - 3s 290ms/step - loss: 0.0038 - accuracy: 1.0000 - val_loss: 0.0141 - val_accuracy: 1.0000\n",
      "Epoch 52/60\n",
      "13/13 [==============================] - ETA: 0s - loss: 0.0038 - accuracy: 1.0000\n",
      "Epoch 00052: val_loss improved from 0.01413 to 0.01084, saving model to model\\\n",
      "13/13 [==============================] - 1s 95ms/step - loss: 0.0038 - accuracy: 1.0000 - val_loss: 0.0108 - val_accuracy: 1.0000\n",
      "Epoch 53/60\n",
      "11/13 [========================>.....] - ETA: 0s - loss: 0.0035 - accuracy: 1.0000\n",
      "Epoch 00053: val_loss improved from 0.01084 to 0.00834, saving model to model\\\n",
      "13/13 [==============================] - 1s 116ms/step - loss: 0.0034 - accuracy: 1.0000 - val_loss: 0.0083 - val_accuracy: 1.0000\n",
      "Epoch 54/60\n",
      "11/13 [========================>.....] - ETA: 0s - loss: 0.0030 - accuracy: 1.0000\n",
      "Epoch 00054: val_loss improved from 0.00834 to 0.00637, saving model to model\\\n",
      "13/13 [==============================] - 2s 132ms/step - loss: 0.0030 - accuracy: 1.0000 - val_loss: 0.0064 - val_accuracy: 1.0000\n",
      "Epoch 55/60\n",
      "10/13 [======================>.......] - ETA: 0s - loss: 0.0046 - accuracy: 1.0000\n",
      "Epoch 00055: val_loss improved from 0.00637 to 0.00568, saving model to model\\\n",
      "13/13 [==============================] - 1s 91ms/step - loss: 0.0042 - accuracy: 1.0000 - val_loss: 0.0057 - val_accuracy: 1.0000\n",
      "Epoch 56/60\n",
      "11/13 [========================>.....] - ETA: 0s - loss: 0.0029 - accuracy: 1.0000\n",
      "Epoch 00056: val_loss improved from 0.00568 to 0.00487, saving model to model\\\n",
      "13/13 [==============================] - 1s 115ms/step - loss: 0.0029 - accuracy: 1.0000 - val_loss: 0.0049 - val_accuracy: 1.0000\n",
      "Epoch 57/60\n",
      "10/13 [======================>.......] - ETA: 0s - loss: 0.0032 - accuracy: 1.0000\n",
      "Epoch 00057: val_loss improved from 0.00487 to 0.00410, saving model to model\\\n",
      "13/13 [==============================] - 1s 93ms/step - loss: 0.0032 - accuracy: 1.0000 - val_loss: 0.0041 - val_accuracy: 1.0000\n",
      "Epoch 58/60\n",
      "10/13 [======================>.......] - ETA: 0s - loss: 0.0023 - accuracy: 1.0000\n",
      "Epoch 00058: val_loss improved from 0.00410 to 0.00377, saving model to model\\\n",
      "13/13 [==============================] - 1s 93ms/step - loss: 0.0024 - accuracy: 1.0000 - val_loss: 0.0038 - val_accuracy: 1.0000\n",
      "Epoch 59/60\n",
      "10/13 [======================>.......] - ETA: 0s - loss: 0.0020 - accuracy: 1.0000\n",
      "Epoch 00059: val_loss improved from 0.00377 to 0.00362, saving model to model\\\n",
      "13/13 [==============================] - 2s 185ms/step - loss: 0.0021 - accuracy: 1.0000 - val_loss: 0.0036 - val_accuracy: 1.0000\n",
      "Epoch 60/60\n",
      "11/13 [========================>.....] - ETA: 0s - loss: 0.0021 - accuracy: 1.0000\n",
      "Epoch 00060: val_loss improved from 0.00362 to 0.00327, saving model to model\\\n",
      "13/13 [==============================] - 2s 139ms/step - loss: 0.0023 - accuracy: 1.0000 - val_loss: 0.0033 - val_accuracy: 1.0000\n"
     ]
    }
   ],
   "source": [
    "history = train_model.fit(xtrain, ytrain, epochs = 60, validation_data = (xtest, ytest), batch_size = 64, callbacks = checkpoint)"
   ]
  },
  {
   "cell_type": "code",
   "execution_count": 9,
   "metadata": {},
   "outputs": [
    {
     "data": {
      "text/plain": [
       "<tensorflow.python.training.tracking.util.CheckpointLoadStatus at 0x1da04f37e80>"
      ]
     },
     "execution_count": 9,
     "metadata": {},
     "output_type": "execute_result"
    }
   ],
   "source": [
    "check_model = model()\n",
    "check_model.compile(optimizer = Adam(learning_rate = 0.0001), loss = SparseCategoricalCrossentropy(), metrics = [\"accuracy\"])\n",
    "check_model.load_weights(checkpoint_filepath)\n"
   ]
  },
  {
   "cell_type": "code",
   "execution_count": 10,
   "metadata": {},
   "outputs": [
    {
     "name": "stdout",
     "output_type": "stream",
     "text": [
      "11/11 [==============================] - 0s 5ms/step - loss: 0.0033 - accuracy: 1.0000\n"
     ]
    },
    {
     "data": {
      "text/plain": [
       "[0.003266588319092989, 1.0]"
      ]
     },
     "execution_count": 10,
     "metadata": {},
     "output_type": "execute_result"
    }
   ],
   "source": [
    "check_model.evaluate(xtest, ytest)"
   ]
  },
  {
   "cell_type": "code",
   "execution_count": 11,
   "metadata": {},
   "outputs": [],
   "source": [
    "y_pred = check_model.predict(xtest)\n",
    "y_preds_ready = y_pred.argmax(axis=1)"
   ]
  },
  {
   "cell_type": "code",
   "execution_count": 12,
   "metadata": {},
   "outputs": [
    {
     "name": "stdout",
     "output_type": "stream",
     "text": [
      "1.0\n"
     ]
    }
   ],
   "source": [
    "#calculating recal:\n",
    "\n",
    "print(recall_score(ytest, y_preds_ready, average='macro'))"
   ]
  },
  {
   "cell_type": "code",
   "execution_count": 13,
   "metadata": {},
   "outputs": [
    {
     "data": {
      "text/html": [
       "<div>\n",
       "<style scoped>\n",
       "    .dataframe tbody tr th:only-of-type {\n",
       "        vertical-align: middle;\n",
       "    }\n",
       "\n",
       "    .dataframe tbody tr th {\n",
       "        vertical-align: top;\n",
       "    }\n",
       "\n",
       "    .dataframe thead th {\n",
       "        text-align: right;\n",
       "    }\n",
       "</style>\n",
       "<table border=\"1\" class=\"dataframe\">\n",
       "  <thead>\n",
       "    <tr style=\"text-align: right;\">\n",
       "      <th></th>\n",
       "      <th>loss</th>\n",
       "      <th>accuracy</th>\n",
       "      <th>val_loss</th>\n",
       "      <th>val_accuracy</th>\n",
       "    </tr>\n",
       "  </thead>\n",
       "  <tbody>\n",
       "    <tr>\n",
       "      <th>0</th>\n",
       "      <td>1.146901</td>\n",
       "      <td>0.638645</td>\n",
       "      <td>2.030808</td>\n",
       "      <td>0.380117</td>\n",
       "    </tr>\n",
       "    <tr>\n",
       "      <th>1</th>\n",
       "      <td>0.247432</td>\n",
       "      <td>0.928482</td>\n",
       "      <td>2.023067</td>\n",
       "      <td>0.116959</td>\n",
       "    </tr>\n",
       "    <tr>\n",
       "      <th>2</th>\n",
       "      <td>0.113160</td>\n",
       "      <td>0.984944</td>\n",
       "      <td>2.024119</td>\n",
       "      <td>0.105263</td>\n",
       "    </tr>\n",
       "    <tr>\n",
       "      <th>3</th>\n",
       "      <td>0.088670</td>\n",
       "      <td>0.983689</td>\n",
       "      <td>2.025975</td>\n",
       "      <td>0.122807</td>\n",
       "    </tr>\n",
       "    <tr>\n",
       "      <th>4</th>\n",
       "      <td>0.053586</td>\n",
       "      <td>0.993726</td>\n",
       "      <td>2.024129</td>\n",
       "      <td>0.187135</td>\n",
       "    </tr>\n",
       "  </tbody>\n",
       "</table>\n",
       "</div>"
      ],
      "text/plain": [
       "       loss  accuracy  val_loss  val_accuracy\n",
       "0  1.146901  0.638645  2.030808      0.380117\n",
       "1  0.247432  0.928482  2.023067      0.116959\n",
       "2  0.113160  0.984944  2.024119      0.105263\n",
       "3  0.088670  0.983689  2.025975      0.122807\n",
       "4  0.053586  0.993726  2.024129      0.187135"
      ]
     },
     "execution_count": 13,
     "metadata": {},
     "output_type": "execute_result"
    }
   ],
   "source": [
    "out = pd.DataFrame(history.history)\n",
    "out.head()"
   ]
  },
  {
   "cell_type": "code",
   "execution_count": 14,
   "metadata": {},
   "outputs": [
    {
     "data": {
      "text/plain": [
       "<AxesSubplot:>"
      ]
     },
     "execution_count": 14,
     "metadata": {},
     "output_type": "execute_result"
    },
    {
     "data": {
      "image/png": "[encoded data removed]",
      "text/plain": [
       "<Figure size 432x288 with 1 Axes>"
      ]
     },
     "metadata": {
      "needs_background": "light"
     },
     "output_type": "display_data"
    }
   ],
   "source": [
    "out.plot()"
   ]
  },
  {
   "cell_type": "code",
   "execution_count": 15,
   "metadata": {},
   "outputs": [
    {
     "data": {
      "image/png": "[encoded data removed]",
      "text/plain": [
       "<Figure size 1080x1080 with 2 Axes>"
      ]
     },
     "metadata": {
      "needs_background": "light"
     },
     "output_type": "display_data"
    }
   ],
   "source": [
    "make_confusion_matrix(y_true=ytest, \n",
    "                      y_pred=y_preds_ready,\n",
    "                      classes=['SX-1', 'SX-2', 'SX-3', 'SX-4','SX-5', 'SX-6', 'SX-7', 'SX-8'],\n",
    "                      figsize=(15, 15),\n",
    "                      text_size=10)"
   ]
  },
  {
   "cell_type": "code",
   "execution_count": null,
   "metadata": {},
   "outputs": [],
   "source": []
  }
 ],
 "metadata": {
  "kernelspec": {
   "display_name": "Python 3.8.8 ('base')",
   "language": "python",
   "name": "python3"
  },
  "language_info": {
   "codemirror_mode": {
    "name": "ipython",
    "version": 3
   },
   "file_extension": ".py",
   "mimetype": "text/x-python",
   "name": "python",
   "nbconvert_exporter": "python",
   "pygments_lexer": "ipython3",
   "version": "3.8.8"
  },
  "orig_nbformat": 4,
  "vscode": {
   "interpreter": {
    "hash": "ec3b6344b8b3f6c3db1463248c46b8920f4fc68f6187e2c1e71f56a52299e245"
   }
  }
 },
 "nbformat": 4,
 "nbformat_minor": 2
}
